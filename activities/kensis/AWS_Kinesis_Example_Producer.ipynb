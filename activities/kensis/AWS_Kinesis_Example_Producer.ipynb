{
 "cells": [
  {
   "cell_type": "code",
   "execution_count": 1,
   "metadata": {},
   "outputs": [],
   "source": [
    "import boto3\n",
    "import json\n",
    "import time\n",
    "import pandas as pd\n",
    "import configparser\n",
    "\n",
    "# Read AWS credentials from config file\n",
    "config = configparser.ConfigParser()\n",
    "config.read('aws.cfg')\n",
    "\n",
    "aws_access_key_id = config['AWS']['aws_access_key_id']\n",
    "aws_secret_access_key = config['AWS']['aws_secret_access_key']\n",
    "region_name = config.get('AWS','region_name')"
   ]
  },
  {
   "cell_type": "code",
   "execution_count": 2,
   "metadata": {},
   "outputs": [],
   "source": [
    "# Initialize the boto3 client with credentials from config file\n",
    "kinesis_client = boto3.client(\n",
    "    'kinesis',\n",
    "    aws_access_key_id=config.get('AWS','aws_access_key_id'),\n",
    "    aws_secret_access_key=config.get('AWS','aws_secret_access_key'),\n",
    "    region_name=config.get('AWS','region_name')\n",
    ")\n"
   ]
  },
  {
   "cell_type": "code",
   "execution_count": 3,
   "metadata": {},
   "outputs": [],
   "source": [
    "def produce(stream_name, data, partition_key):\n",
    "    try:\n",
    "        # Convert timestamps to strings\n",
    "        for key in data:\n",
    "            if isinstance(data[key], pd.Timestamp):\n",
    "                data[key] = data[key].isoformat()\n",
    "                # using the put_record method to push the stream\n",
    "        response = kinesis_client.put_record(\n",
    "            StreamName=stream_name,\n",
    "            Data=json.dumps(data),\n",
    "            PartitionKey=partition_key\n",
    "        )\n",
    "        return response\n",
    "    except Exception as e:\n",
    "        print(f\"Error producing record: {e}\")\n",
    "\n",
    "# this function takes 5 records at a time and streams every 2-seconds\n",
    "def stream_data(df, stream_name):\n",
    "    for i in range(0, len(df), 5):\n",
    "        records = df.iloc[i:i+5].to_dict(orient='records')\n",
    "        for record in records:\n",
    "            partition_key = str(record['tpep_pickup_datetime'])  # Use a valid column as the partition key\n",
    "\n",
    "            # call the produce function\n",
    "            produce(stream_name, record, partition_key)\n",
    "        print(f\"Sent {len(records)} records to Kinesis\")\n",
    "        time.sleep(2)"
   ]
  },
  {
   "cell_type": "code",
   "execution_count": 4,
   "metadata": {},
   "outputs": [
    {
     "name": "stdout",
     "output_type": "stream",
     "text": [
      "Sent 5 records to Kinesis\n",
      "Sent 5 records to Kinesis\n"
     ]
    },
    {
     "ename": "KeyboardInterrupt",
     "evalue": "",
     "output_type": "error",
     "traceback": [
      "\u001b[0;31m---------------------------------------------------------------------------\u001b[0m",
      "\u001b[0;31mKeyboardInterrupt\u001b[0m                         Traceback (most recent call last)",
      "Cell \u001b[0;32mIn[4], line 9\u001b[0m\n\u001b[1;32m      3\u001b[0m \u001b[38;5;66;03m# Reading the yellow_taxis parquet file and stream it\u001b[39;00m\n\u001b[1;32m      4\u001b[0m df \u001b[38;5;241m=\u001b[39m pd\u001b[38;5;241m.\u001b[39mread_parquet(\u001b[38;5;124m'\u001b[39m\u001b[38;5;124ms3://techcatalyst-public/yellow_tripdata_2024-01.parquet\u001b[39m\u001b[38;5;124m'\u001b[39m,\n\u001b[1;32m      5\u001b[0m                  storage_options\u001b[38;5;241m=\u001b[39m{\n\u001b[1;32m      6\u001b[0m                   \u001b[38;5;124m'\u001b[39m\u001b[38;5;124mkey\u001b[39m\u001b[38;5;124m'\u001b[39m: config\u001b[38;5;241m.\u001b[39mget(\u001b[38;5;124m'\u001b[39m\u001b[38;5;124mAWS\u001b[39m\u001b[38;5;124m'\u001b[39m,\u001b[38;5;124m'\u001b[39m\u001b[38;5;124maws_access_key_id\u001b[39m\u001b[38;5;124m'\u001b[39m),\n\u001b[1;32m      7\u001b[0m                  \u001b[38;5;124m'\u001b[39m\u001b[38;5;124msecret\u001b[39m\u001b[38;5;124m'\u001b[39m: config\u001b[38;5;241m.\u001b[39mget(\u001b[38;5;124m'\u001b[39m\u001b[38;5;124mAWS\u001b[39m\u001b[38;5;124m'\u001b[39m,\u001b[38;5;124m'\u001b[39m\u001b[38;5;124maws_secret_access_key\u001b[39m\u001b[38;5;124m'\u001b[39m),\n\u001b[1;32m      8\u001b[0m                  })\n\u001b[0;32m----> 9\u001b[0m \u001b[43mstream_data\u001b[49m\u001b[43m(\u001b[49m\u001b[43mdf\u001b[49m\u001b[43m,\u001b[49m\u001b[43m \u001b[49m\u001b[43mstream_name\u001b[49m\u001b[43m)\u001b[49m\n",
      "Cell \u001b[0;32mIn[3], line 27\u001b[0m, in \u001b[0;36mstream_data\u001b[0;34m(df, stream_name)\u001b[0m\n\u001b[1;32m     25\u001b[0m     produce(stream_name, record, partition_key)\n\u001b[1;32m     26\u001b[0m \u001b[38;5;28mprint\u001b[39m(\u001b[38;5;124mf\u001b[39m\u001b[38;5;124m\"\u001b[39m\u001b[38;5;124mSent \u001b[39m\u001b[38;5;132;01m{\u001b[39;00m\u001b[38;5;28mlen\u001b[39m(records)\u001b[38;5;132;01m}\u001b[39;00m\u001b[38;5;124m records to Kinesis\u001b[39m\u001b[38;5;124m\"\u001b[39m)\n\u001b[0;32m---> 27\u001b[0m \u001b[43mtime\u001b[49m\u001b[38;5;241;43m.\u001b[39;49m\u001b[43msleep\u001b[49m\u001b[43m(\u001b[49m\u001b[38;5;241;43m2\u001b[39;49m\u001b[43m)\u001b[49m\n",
      "\u001b[0;31mKeyboardInterrupt\u001b[0m: "
     ]
    }
   ],
   "source": [
    "if __name__ == \"__main__\":\n",
    "    stream_name = 'andy-input-stream'\n",
    "    # Reading the yellow_taxis parquet file and stream it\n",
    "    df = pd.read_parquet('s3://techcatalyst-public/yellow_tripdata_2024-01.parquet',\n",
    "                     storage_options={\n",
    "                      'key': config.get('AWS','aws_access_key_id'),\n",
    "                     'secret': config.get('AWS','aws_secret_access_key'),\n",
    "                     })\n",
    "    stream_data(df, stream_name)"
   ]
  }
 ],
 "metadata": {
  "kernelspec": {
   "display_name": "Python 3",
   "language": "python",
   "name": "python3"
  },
  "language_info": {
   "codemirror_mode": {
    "name": "ipython",
    "version": 3
   },
   "file_extension": ".py",
   "mimetype": "text/x-python",
   "name": "python",
   "nbconvert_exporter": "python",
   "pygments_lexer": "ipython3",
   "version": "3.10.13"
  }
 },
 "nbformat": 4,
 "nbformat_minor": 2
}
