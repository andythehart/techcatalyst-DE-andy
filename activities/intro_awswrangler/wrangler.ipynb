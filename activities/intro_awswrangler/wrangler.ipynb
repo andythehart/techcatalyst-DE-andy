{
 "cells": [
  {
   "cell_type": "code",
   "execution_count": 2,
   "metadata": {},
   "outputs": [],
   "source": [
    "import configparser\n",
    "import boto3\n",
    "import pandas as pd\n",
    "\n",
    "# Load AWS credentials from the configuration file\n",
    "config = configparser.ConfigParser()\n",
    "config.read('aws.cfg')\n",
    "\n",
    "aws_access_key = config.get('AWS','aws_access_key_id')\n",
    "aws_secret_key = config.get('AWS','aws_secret_access_key')"
   ]
  },
  {
   "cell_type": "markdown",
   "metadata": {},
   "source": [
    "### creating an s3 bucket"
   ]
  },
  {
   "cell_type": "code",
   "execution_count": 3,
   "metadata": {},
   "outputs": [],
   "source": [
    "# Initialize the S3 client\n",
    "s3 = boto3.client(\n",
    "    's3',\n",
    "    aws_access_key_id=aws_access_key,\n",
    "    aws_secret_access_key=aws_secret_key\n",
    ")"
   ]
  },
  {
   "cell_type": "code",
   "execution_count": 4,
   "metadata": {},
   "outputs": [],
   "source": [
    "## list all existing bucket and location\n",
    "\n",
    "response = s3.list_buckets()\n",
    "\n",
    "\n",
    "for bucket in response['Buckets']:\n",
    "    if bucket[\"Name\"] == 'samee-awswrangler-practice':\n",
    "        loca = s3.get_bucket_location(Bucket ='samee-awswrangler-practice')\n",
    "\n",
    "        print(loca)\n",
    "\n",
    "    #print(f'  {bucket[\"Name\"]}')\n"
   ]
  },
  {
   "cell_type": "markdown",
   "metadata": {},
   "source": [
    "### creating a new bucket"
   ]
  },
  {
   "cell_type": "code",
   "execution_count": 5,
   "metadata": {},
   "outputs": [],
   "source": [
    "# s3.create_bucket(Bucket='andy-wrangler-bucket')\n",
    "# s3.create_bucket(Bucket='andy-wrangler-bucket', CreateBucketConfiguration={\n",
    "#     'LocationConstraint': 'us-west-2'})"
   ]
  },
  {
   "cell_type": "code",
   "execution_count": 6,
   "metadata": {},
   "outputs": [],
   "source": [
    "bucket = 'andy-wrangler-bucket'"
   ]
  },
  {
   "cell_type": "code",
   "execution_count": 7,
   "metadata": {},
   "outputs": [],
   "source": [
    "# s3.upload_file('/workspaces/techcatalyst-DE-andy/activities/intro_awswrangler/upload.txt',bucket,'upload_andy.txt')"
   ]
  },
  {
   "cell_type": "code",
   "execution_count": 8,
   "metadata": {},
   "outputs": [],
   "source": [
    "#pip install awswrangler"
   ]
  },
  {
   "cell_type": "markdown",
   "metadata": {},
   "source": [
    "##### Import awswrangler and set up default session"
   ]
  },
  {
   "cell_type": "code",
   "execution_count": 9,
   "metadata": {},
   "outputs": [],
   "source": [
    "import awswrangler as wr\n",
    "\n",
    "boto3.setup_default_session(\n",
    "    aws_access_key_id= config.get('AWS','aws_access_key_id'),\n",
    "    aws_secret_access_key= config.get('AWS','aws_secret_access_key'),\n",
    "    region_name=config.get('AWS','region_name')\n",
    ")"
   ]
  },
  {
   "cell_type": "code",
   "execution_count": 10,
   "metadata": {},
   "outputs": [],
   "source": [
    "try:\n",
    "    df = wr.s3.read_parquet(path = 's3://techcatalyst-raw/yellow_tripdata_2024-01.parquet') # YOUR CODE \n",
    "except Exception as e:\n",
    "    print('error')\n",
    "    print(e)"
   ]
  },
  {
   "cell_type": "code",
   "execution_count": 11,
   "metadata": {},
   "outputs": [
    {
     "name": "stdout",
     "output_type": "stream",
     "text": [
      "<class 'pandas.core.frame.DataFrame'>\n",
      "RangeIndex: 2964624 entries, 0 to 2964623\n",
      "Data columns (total 19 columns):\n",
      " #   Column                 Dtype         \n",
      "---  ------                 -----         \n",
      " 0   VendorID               Int32         \n",
      " 1   tpep_pickup_datetime   datetime64[us]\n",
      " 2   tpep_dropoff_datetime  datetime64[us]\n",
      " 3   passenger_count        Int64         \n",
      " 4   trip_distance          float64       \n",
      " 5   RatecodeID             Int64         \n",
      " 6   store_and_fwd_flag     string        \n",
      " 7   PULocationID           Int32         \n",
      " 8   DOLocationID           Int32         \n",
      " 9   payment_type           Int64         \n",
      " 10  fare_amount            float64       \n",
      " 11  extra                  float64       \n",
      " 12  mta_tax                float64       \n",
      " 13  tip_amount             float64       \n",
      " 14  tolls_amount           float64       \n",
      " 15  improvement_surcharge  float64       \n",
      " 16  total_amount           float64       \n",
      " 17  congestion_surcharge   float64       \n",
      " 18  Airport_fee            float64       \n",
      "dtypes: Int32(3), Int64(3), datetime64[us](2), float64(10), string(1)\n",
      "memory usage: 412.8 MB\n"
     ]
    }
   ],
   "source": [
    "df.info()"
   ]
  },
  {
   "cell_type": "code",
   "execution_count": 12,
   "metadata": {},
   "outputs": [],
   "source": [
    "# wr.s3.to_parquet(\n",
    "#     df= df,\n",
    "#     path='s3://andy-wrangler-bucket/',\n",
    "#     dataset=True,\n",
    "#     mode='append'\n",
    "# )"
   ]
  },
  {
   "cell_type": "code",
   "execution_count": 13,
   "metadata": {},
   "outputs": [
    {
     "name": "stdout",
     "output_type": "stream",
     "text": [
      "                                      Database Description\n",
      "0                       aryan_awswrangler_test            \n",
      "1                         ben-awswrangler_test            \n",
      "2                       jason-awswrangler_test            \n",
      "3  studio_widget_input-stream_1721327027000_db            \n",
      "4                        zayd-awswrangler_test            \n"
     ]
    }
   ],
   "source": [
    "databases = wr.catalog.databases()\n",
    "print(databases)"
   ]
  },
  {
   "cell_type": "code",
   "execution_count": 14,
   "metadata": {},
   "outputs": [
    {
     "name": "stdout",
     "output_type": "stream",
     "text": [
      "                                      Database Description\n",
      "0                        andy-awswrangler-test            \n",
      "1                       aryan_awswrangler_test            \n",
      "2                         ben-awswrangler_test            \n",
      "3                       jason-awswrangler_test            \n",
      "4  studio_widget_input-stream_1721327027000_db            \n",
      "5                        zayd-awswrangler_test            \n"
     ]
    }
   ],
   "source": [
    "if \"andy-awswrangler_test\" not in databases.values:\n",
    "    wr.catalog.create_database(name='andy-awswrangler-test')\n",
    "    print(wr.catalog.databases())\n",
    "else:\n",
    "    print(\"Database awswrangler_test already exists\")"
   ]
  },
  {
   "cell_type": "code",
   "execution_count": 16,
   "metadata": {},
   "outputs": [],
   "source": [
    "desc = \"This is test for wrangler table andy.\"\n",
    "\n",
    "param = {\"source\": \"NYC Taxi Web Service https://www.nyc.gov\", \"class\": \"e-commerce\"}\n",
    "\n",
    "comments = {\n",
    "    \"tpep_pickup_datetime\": \"The date and time when the meter was engaged.\",\n",
    "    \"PULocationID\": \"TLC Taxi Zone in which the taximeter was engaged\",\n",
    "    \"payment_type\": \"A numeric code signifying how the passenger paid for the trip\",\n",
    "    \"fare_amount\": \"The time-and-distance fare calculated by the meter.\",\n",
    "}\n",
    "\n",
    "res = wr.s3.to_parquet(\n",
    "    df=df,\n",
    "    path=f's3://andy-wrangler-bucket/',\n",
    "    dataset=True,\n",
    "    database=\"andy-awswrangler-test\",\n",
    "    table=\"wrangler-table\",\n",
    "    mode=\"overwrite\",\n",
    "    glue_table_settings=wr.typing.GlueTableSettings(description=desc, parameters=param, columns_comments=comments),\n",
    ")"
   ]
  }
 ],
 "metadata": {
  "kernelspec": {
   "display_name": "Python 3",
   "language": "python",
   "name": "python3"
  },
  "language_info": {
   "codemirror_mode": {
    "name": "ipython",
    "version": 3
   },
   "file_extension": ".py",
   "mimetype": "text/x-python",
   "name": "python",
   "nbconvert_exporter": "python",
   "pygments_lexer": "ipython3",
   "version": "3.10.13"
  }
 },
 "nbformat": 4,
 "nbformat_minor": 2
}
