{
 "cells": [
  {
   "cell_type": "code",
   "execution_count": 1,
   "metadata": {},
   "outputs": [],
   "source": [
    "import configparser\n",
    "import boto3\n",
    "import pandas as pd\n",
    "\n",
    "# Load AWS credentials from the configuration file\n",
    "config = configparser.ConfigParser()\n",
    "config.read('aws.cfg')\n",
    "\n",
    "aws_access_key = config.get('AWS','aws_access_key_id')\n",
    "aws_secret_key = config.get('AWS','aws_secret_access_key')\n",
    "region_name = config.get('AWS', 'region_name')\n"
   ]
  },
  {
   "cell_type": "code",
   "execution_count": 2,
   "metadata": {},
   "outputs": [],
   "source": [
    "s3 = boto3.client(\n",
    "    's3',\n",
    "    aws_access_key_id=aws_access_key,\n",
    "    aws_secret_access_key=aws_secret_key,\n",
    "    region_name = region_name\n",
    "\n",
    ")"
   ]
  },
  {
   "cell_type": "code",
   "execution_count": 3,
   "metadata": {},
   "outputs": [],
   "source": [
    "df_review = pd.read_csv('s3://techcatalyst-public/resources/sentiment/review.csv') # YOUR CODE "
   ]
  },
  {
   "cell_type": "code",
   "execution_count": 4,
   "metadata": {},
   "outputs": [],
   "source": [
    "df_product = pd.read_csv('s3://techcatalyst-public/resources/sentiment/product.csv')"
   ]
  },
  {
   "cell_type": "code",
   "execution_count": 5,
   "metadata": {},
   "outputs": [
    {
     "data": {
      "text/html": [
       "<div>\n",
       "<style scoped>\n",
       "    .dataframe tbody tr th:only-of-type {\n",
       "        vertical-align: middle;\n",
       "    }\n",
       "\n",
       "    .dataframe tbody tr th {\n",
       "        vertical-align: top;\n",
       "    }\n",
       "\n",
       "    .dataframe thead th {\n",
       "        text-align: right;\n",
       "    }\n",
       "</style>\n",
       "<table border=\"1\" class=\"dataframe\">\n",
       "  <thead>\n",
       "    <tr style=\"text-align: right;\">\n",
       "      <th></th>\n",
       "      <th>REVIEW ID</th>\n",
       "      <th>REVIEW TEXT</th>\n",
       "    </tr>\n",
       "  </thead>\n",
       "  <tbody>\n",
       "    <tr>\n",
       "      <th>0</th>\n",
       "      <td>R1</td>\n",
       "      <td>Great camera quality, but battery life could b...</td>\n",
       "    </tr>\n",
       "    <tr>\n",
       "      <th>1</th>\n",
       "      <td>R2</td>\n",
       "      <td>Very satisfied with this smartphone. Worth eve...</td>\n",
       "    </tr>\n",
       "    <tr>\n",
       "      <th>2</th>\n",
       "      <td>R3</td>\n",
       "      <td>Excellent performance and battery life. Highly...</td>\n",
       "    </tr>\n",
       "    <tr>\n",
       "      <th>3</th>\n",
       "      <td>R4</td>\n",
       "      <td>Disappointed with the build quality. Feels cheap.</td>\n",
       "    </tr>\n",
       "    <tr>\n",
       "      <th>4</th>\n",
       "      <td>R5</td>\n",
       "      <td>Fantastic noise cancellation and sound quality.</td>\n",
       "    </tr>\n",
       "  </tbody>\n",
       "</table>\n",
       "</div>"
      ],
      "text/plain": [
       "  REVIEW ID                                        REVIEW TEXT\n",
       "0        R1  Great camera quality, but battery life could b...\n",
       "1        R2  Very satisfied with this smartphone. Worth eve...\n",
       "2        R3  Excellent performance and battery life. Highly...\n",
       "3        R4  Disappointed with the build quality. Feels cheap.\n",
       "4        R5    Fantastic noise cancellation and sound quality."
      ]
     },
     "execution_count": 5,
     "metadata": {},
     "output_type": "execute_result"
    }
   ],
   "source": [
    "df_review.head(5)"
   ]
  },
  {
   "cell_type": "code",
   "execution_count": 6,
   "metadata": {},
   "outputs": [
    {
     "data": {
      "text/html": [
       "<div>\n",
       "<style scoped>\n",
       "    .dataframe tbody tr th:only-of-type {\n",
       "        vertical-align: middle;\n",
       "    }\n",
       "\n",
       "    .dataframe tbody tr th {\n",
       "        vertical-align: top;\n",
       "    }\n",
       "\n",
       "    .dataframe thead th {\n",
       "        text-align: right;\n",
       "    }\n",
       "</style>\n",
       "<table border=\"1\" class=\"dataframe\">\n",
       "  <thead>\n",
       "    <tr style=\"text-align: right;\">\n",
       "      <th></th>\n",
       "      <th>PRODUCT ID</th>\n",
       "      <th>PRODUCT DESCRIPTION</th>\n",
       "      <th>REVIEW ID</th>\n",
       "    </tr>\n",
       "  </thead>\n",
       "  <tbody>\n",
       "    <tr>\n",
       "      <th>0</th>\n",
       "      <td>1</td>\n",
       "      <td>High-quality smartphone with excellent camera.</td>\n",
       "      <td>R1</td>\n",
       "    </tr>\n",
       "    <tr>\n",
       "      <th>1</th>\n",
       "      <td>1</td>\n",
       "      <td>High-quality smartphone with excellent camera.</td>\n",
       "      <td>R2</td>\n",
       "    </tr>\n",
       "    <tr>\n",
       "      <th>2</th>\n",
       "      <td>2</td>\n",
       "      <td>Durable laptop with long battery life.</td>\n",
       "      <td>R3</td>\n",
       "    </tr>\n",
       "    <tr>\n",
       "      <th>3</th>\n",
       "      <td>2</td>\n",
       "      <td>Durable laptop with long battery life.</td>\n",
       "      <td>R4</td>\n",
       "    </tr>\n",
       "    <tr>\n",
       "      <th>4</th>\n",
       "      <td>3</td>\n",
       "      <td>Wireless noise-canceling headphones.</td>\n",
       "      <td>R5</td>\n",
       "    </tr>\n",
       "  </tbody>\n",
       "</table>\n",
       "</div>"
      ],
      "text/plain": [
       "   PRODUCT ID                             PRODUCT DESCRIPTION REVIEW ID\n",
       "0           1  High-quality smartphone with excellent camera.        R1\n",
       "1           1  High-quality smartphone with excellent camera.        R2\n",
       "2           2          Durable laptop with long battery life.        R3\n",
       "3           2          Durable laptop with long battery life.        R4\n",
       "4           3            Wireless noise-canceling headphones.        R5"
      ]
     },
     "execution_count": 6,
     "metadata": {},
     "output_type": "execute_result"
    }
   ],
   "source": [
    "df_product.head(5)"
   ]
  },
  {
   "cell_type": "code",
   "execution_count": 7,
   "metadata": {},
   "outputs": [],
   "source": [
    "combined_df = pd.merge(df_product, df_review, how='left', left_on='REVIEW ID', right_on='REVIEW ID')"
   ]
  },
  {
   "cell_type": "code",
   "execution_count": 8,
   "metadata": {},
   "outputs": [
    {
     "data": {
      "text/html": [
       "<div>\n",
       "<style scoped>\n",
       "    .dataframe tbody tr th:only-of-type {\n",
       "        vertical-align: middle;\n",
       "    }\n",
       "\n",
       "    .dataframe tbody tr th {\n",
       "        vertical-align: top;\n",
       "    }\n",
       "\n",
       "    .dataframe thead th {\n",
       "        text-align: right;\n",
       "    }\n",
       "</style>\n",
       "<table border=\"1\" class=\"dataframe\">\n",
       "  <thead>\n",
       "    <tr style=\"text-align: right;\">\n",
       "      <th></th>\n",
       "      <th>PRODUCT ID</th>\n",
       "      <th>PRODUCT DESCRIPTION</th>\n",
       "      <th>REVIEW ID</th>\n",
       "      <th>REVIEW TEXT</th>\n",
       "    </tr>\n",
       "  </thead>\n",
       "  <tbody>\n",
       "    <tr>\n",
       "      <th>0</th>\n",
       "      <td>1</td>\n",
       "      <td>High-quality smartphone with excellent camera.</td>\n",
       "      <td>R1</td>\n",
       "      <td>Great camera quality, but battery life could b...</td>\n",
       "    </tr>\n",
       "    <tr>\n",
       "      <th>1</th>\n",
       "      <td>1</td>\n",
       "      <td>High-quality smartphone with excellent camera.</td>\n",
       "      <td>R2</td>\n",
       "      <td>Very satisfied with this smartphone. Worth eve...</td>\n",
       "    </tr>\n",
       "    <tr>\n",
       "      <th>2</th>\n",
       "      <td>2</td>\n",
       "      <td>Durable laptop with long battery life.</td>\n",
       "      <td>R3</td>\n",
       "      <td>Excellent performance and battery life. Highly...</td>\n",
       "    </tr>\n",
       "    <tr>\n",
       "      <th>3</th>\n",
       "      <td>2</td>\n",
       "      <td>Durable laptop with long battery life.</td>\n",
       "      <td>R4</td>\n",
       "      <td>Disappointed with the build quality. Feels cheap.</td>\n",
       "    </tr>\n",
       "    <tr>\n",
       "      <th>4</th>\n",
       "      <td>3</td>\n",
       "      <td>Wireless noise-canceling headphones.</td>\n",
       "      <td>R5</td>\n",
       "      <td>Fantastic noise cancellation and sound quality.</td>\n",
       "    </tr>\n",
       "    <tr>\n",
       "      <th>5</th>\n",
       "      <td>3</td>\n",
       "      <td>Wireless noise-canceling headphones.</td>\n",
       "      <td>R6</td>\n",
       "      <td>Not comfortable to wear for long periods.</td>\n",
       "    </tr>\n",
       "    <tr>\n",
       "      <th>6</th>\n",
       "      <td>4</td>\n",
       "      <td>Smartwatch with various health tracking features.</td>\n",
       "      <td>R7</td>\n",
       "      <td>Great health tracking features but too expensive.</td>\n",
       "    </tr>\n",
       "    <tr>\n",
       "      <th>7</th>\n",
       "      <td>4</td>\n",
       "      <td>Smartwatch with various health tracking features.</td>\n",
       "      <td>R8</td>\n",
       "      <td>Love the design and functionality. Would buy a...</td>\n",
       "    </tr>\n",
       "    <tr>\n",
       "      <th>8</th>\n",
       "      <td>5</td>\n",
       "      <td>Portable Bluetooth speaker with rich sound.</td>\n",
       "      <td>R9</td>\n",
       "      <td>Sound quality is amazing for its size.</td>\n",
       "    </tr>\n",
       "    <tr>\n",
       "      <th>9</th>\n",
       "      <td>5</td>\n",
       "      <td>Portable Bluetooth speaker with rich sound.</td>\n",
       "      <td>R10</td>\n",
       "      <td>Battery life is too short for outdoor use.</td>\n",
       "    </tr>\n",
       "    <tr>\n",
       "      <th>10</th>\n",
       "      <td>6</td>\n",
       "      <td>High-resolution monitor with wide viewing angles.</td>\n",
       "      <td>R11</td>\n",
       "      <td>Crisp and clear display. Perfect for gaming.</td>\n",
       "    </tr>\n",
       "    <tr>\n",
       "      <th>11</th>\n",
       "      <td>6</td>\n",
       "      <td>High-resolution monitor with wide viewing angles.</td>\n",
       "      <td>R12</td>\n",
       "      <td>Experienced some dead pixels after a week.</td>\n",
       "    </tr>\n",
       "    <tr>\n",
       "      <th>12</th>\n",
       "      <td>7</td>\n",
       "      <td>Fast and reliable external hard drive.</td>\n",
       "      <td>R13</td>\n",
       "      <td>Fast data transfer speeds and reliable.</td>\n",
       "    </tr>\n",
       "    <tr>\n",
       "      <th>13</th>\n",
       "      <td>7</td>\n",
       "      <td>Fast and reliable external hard drive.</td>\n",
       "      <td>R14</td>\n",
       "      <td>Stopped working after a month of use.</td>\n",
       "    </tr>\n",
       "    <tr>\n",
       "      <th>14</th>\n",
       "      <td>8</td>\n",
       "      <td>Compact digital camera with 4K video recording.</td>\n",
       "      <td>R15</td>\n",
       "      <td>Compact and takes great pictures.</td>\n",
       "    </tr>\n",
       "    <tr>\n",
       "      <th>15</th>\n",
       "      <td>8</td>\n",
       "      <td>Compact digital camera with 4K video recording.</td>\n",
       "      <td>R16</td>\n",
       "      <td>Image quality is poor in low light conditions.</td>\n",
       "    </tr>\n",
       "    <tr>\n",
       "      <th>16</th>\n",
       "      <td>9</td>\n",
       "      <td>Ergonomic mechanical keyboard.</td>\n",
       "      <td>R17</td>\n",
       "      <td>Very comfortable and responsive keys.</td>\n",
       "    </tr>\n",
       "    <tr>\n",
       "      <th>17</th>\n",
       "      <td>9</td>\n",
       "      <td>Ergonomic mechanical keyboard.</td>\n",
       "      <td>R18</td>\n",
       "      <td>Keys started sticking after a week of use.</td>\n",
       "    </tr>\n",
       "    <tr>\n",
       "      <th>18</th>\n",
       "      <td>10</td>\n",
       "      <td>Versatile multi-port USB charger.</td>\n",
       "      <td>R19</td>\n",
       "      <td>Charges multiple devices quickly.</td>\n",
       "    </tr>\n",
       "    <tr>\n",
       "      <th>19</th>\n",
       "      <td>10</td>\n",
       "      <td>Versatile multi-port USB charger.</td>\n",
       "      <td>R20</td>\n",
       "      <td>Overheats when charging multiple devices at once.</td>\n",
       "    </tr>\n",
       "  </tbody>\n",
       "</table>\n",
       "</div>"
      ],
      "text/plain": [
       "    PRODUCT ID                                PRODUCT DESCRIPTION REVIEW ID  \\\n",
       "0            1     High-quality smartphone with excellent camera.        R1   \n",
       "1            1     High-quality smartphone with excellent camera.        R2   \n",
       "2            2             Durable laptop with long battery life.        R3   \n",
       "3            2             Durable laptop with long battery life.        R4   \n",
       "4            3               Wireless noise-canceling headphones.        R5   \n",
       "5            3               Wireless noise-canceling headphones.        R6   \n",
       "6            4  Smartwatch with various health tracking features.        R7   \n",
       "7            4  Smartwatch with various health tracking features.        R8   \n",
       "8            5        Portable Bluetooth speaker with rich sound.        R9   \n",
       "9            5        Portable Bluetooth speaker with rich sound.       R10   \n",
       "10           6  High-resolution monitor with wide viewing angles.       R11   \n",
       "11           6  High-resolution monitor with wide viewing angles.       R12   \n",
       "12           7             Fast and reliable external hard drive.       R13   \n",
       "13           7             Fast and reliable external hard drive.       R14   \n",
       "14           8    Compact digital camera with 4K video recording.       R15   \n",
       "15           8    Compact digital camera with 4K video recording.       R16   \n",
       "16           9                     Ergonomic mechanical keyboard.       R17   \n",
       "17           9                     Ergonomic mechanical keyboard.       R18   \n",
       "18          10                  Versatile multi-port USB charger.       R19   \n",
       "19          10                  Versatile multi-port USB charger.       R20   \n",
       "\n",
       "                                          REVIEW TEXT  \n",
       "0   Great camera quality, but battery life could b...  \n",
       "1   Very satisfied with this smartphone. Worth eve...  \n",
       "2   Excellent performance and battery life. Highly...  \n",
       "3   Disappointed with the build quality. Feels cheap.  \n",
       "4     Fantastic noise cancellation and sound quality.  \n",
       "5           Not comfortable to wear for long periods.  \n",
       "6   Great health tracking features but too expensive.  \n",
       "7   Love the design and functionality. Would buy a...  \n",
       "8              Sound quality is amazing for its size.  \n",
       "9          Battery life is too short for outdoor use.  \n",
       "10       Crisp and clear display. Perfect for gaming.  \n",
       "11         Experienced some dead pixels after a week.  \n",
       "12            Fast data transfer speeds and reliable.  \n",
       "13              Stopped working after a month of use.  \n",
       "14                  Compact and takes great pictures.  \n",
       "15     Image quality is poor in low light conditions.  \n",
       "16              Very comfortable and responsive keys.  \n",
       "17         Keys started sticking after a week of use.  \n",
       "18                  Charges multiple devices quickly.  \n",
       "19  Overheats when charging multiple devices at once.  "
      ]
     },
     "execution_count": 8,
     "metadata": {},
     "output_type": "execute_result"
    }
   ],
   "source": [
    "combined_df"
   ]
  },
  {
   "cell_type": "code",
   "execution_count": 9,
   "metadata": {},
   "outputs": [],
   "source": [
    "import boto3\n",
    "\n",
    "comprehend = boto3.client('comprehend',\n",
    "    aws_access_key_id=aws_access_key,\n",
    "    aws_secret_access_key=aws_secret_key,\n",
    "    region_name = region_name)\n"
   ]
  },
  {
   "cell_type": "code",
   "execution_count": 11,
   "metadata": {},
   "outputs": [],
   "source": [
    "response_2 = []\n",
    "for row in combined_df['REVIEW TEXT']:\n",
    "    response = comprehend.detect_sentiment(Text= row, LanguageCode=\"en\")\n",
    "    response_1 = response['Sentiment']\n",
    "    response_2.append(response_1)"
   ]
  },
  {
   "cell_type": "code",
   "execution_count": 12,
   "metadata": {},
   "outputs": [],
   "source": [
    "combined_df['Sentiment']= response_2\n",
    "\n",
    "product_sentiment = combined_df\n",
    "\n",
    "product_sentiment.to_csv('product_sentiment.csv', encoding='utf-8')"
   ]
  },
  {
   "cell_type": "code",
   "execution_count": 13,
   "metadata": {},
   "outputs": [],
   "source": [
    "# Initialize the S3 client\n",
    "\n",
    "# Define the file to upload and the target bucket and key\n",
    "filename = '/workspaces/techcatalyst-DE-andy/activities/ai_api/product_sentiment.csv'  # Replace with your file path\n",
    "bucket_name = 'techcatalyst-public/andy'  # Replace with your bucket name\n",
    "key = 'product_sentiment.csv'  # Replace with your file key in S3\n",
    "\n",
    "# # Upload the file to S3 using put_object\n",
    "# s3.upload_file(filename,bucket_name,key)\n"
   ]
  },
  {
   "cell_type": "code",
   "execution_count": 14,
   "metadata": {},
   "outputs": [],
   "source": [
    "product_sentiment.to_csv('s3://techcatalyst-public/andy/product_sentiment.csv', encoding= 'utf-8', index=False, header= True)"
   ]
  },
  {
   "cell_type": "code",
   "execution_count": 15,
   "metadata": {},
   "outputs": [
    {
     "data": {
      "text/plain": [
       "Sentiment\n",
       "MIXED        2\n",
       "NEGATIVE     8\n",
       "POSITIVE    10\n",
       "dtype: int64"
      ]
     },
     "execution_count": 15,
     "metadata": {},
     "output_type": "execute_result"
    }
   ],
   "source": [
    "product_sentiment.groupby(['Sentiment']).size()"
   ]
  },
  {
   "cell_type": "code",
   "execution_count": 16,
   "metadata": {},
   "outputs": [],
   "source": [
    "count = product_sentiment.groupby(['Sentiment']).size().reset_index(name= 'count').sort_values('Sentiment',ascending=False)\n",
    "count_act= count['count']\n",
    "count_sen = count['Sentiment']\n"
   ]
  },
  {
   "cell_type": "code",
   "execution_count": 17,
   "metadata": {},
   "outputs": [
    {
     "name": "stderr",
     "output_type": "stream",
     "text": [
      "/tmp/ipykernel_52016/403095017.py:12: UserWarning: No artists with labels found to put in legend.  Note that artists whose label start with an underscore are ignored when legend() is called with no argument.\n",
      "  ax.legend(title='Fruit color')\n"
     ]
    },
    {
     "data": {
      "image/png": "[encoded data removed]",
      "text/plain": [
       "<Figure size 640x480 with 1 Axes>"
      ]
     },
     "metadata": {},
     "output_type": "display_data"
    }
   ],
   "source": [
    "# Import Matplotlib\n",
    "import matplotlib.pyplot as plt\n",
    "fig, ax = plt.subplots()\n",
    "fruits = count_sen\n",
    "counts = count_act\n",
    "\n",
    "ax.bar(fruits, counts)\n",
    "\n",
    "# ax.set_title('Sentiment Count for Reviews')\n",
    "fig.text(s='Sentiment Count for Reviews', x=0.5, y=.92, fontsize=18, ha='center', va='center')\n",
    "ax.set_title('Sentiment', y=-0.3)\n",
    "ax.legend(title='Fruit color')\n",
    "\n",
    "\n",
    "ax.tick_params(axis='x', rotation=90)\n",
    "plt.savefig('sentiment analysis.jpg', format='jpg') # order matters\n",
    "plt.show()\n",
    "\n"
   ]
  },
  {
   "cell_type": "code",
   "execution_count": null,
   "metadata": {},
   "outputs": [],
   "source": [
    "# # Initialize the S3 client\n",
    "\n",
    "# # Define the file to upload and the target bucket and key\n",
    "# filename = '/workspaces/techcatalyst-DE-andy/activities/ai_api/sentiment analysis.jpg'  # Replace with your file path\n",
    "# bucket_name = 'techcatalyst-public'  # Replace with your bucket name\n",
    "# key = 'andy/sentiment analysis.jpg'  # Replace with your file key in S3\n",
    "\n",
    "# # Upload the file to S3 using put_object\n",
    "# s3.upload_file(filename,bucket_name,key)"
   ]
  },
  {
   "cell_type": "code",
   "execution_count": 10,
   "metadata": {},
   "outputs": [],
   "source": [
    "df_license = pd.read_csv('s3://techcatalyst-public/resources/license-plates/states.csv')"
   ]
  },
  {
   "cell_type": "code",
   "execution_count": 11,
   "metadata": {},
   "outputs": [
    {
     "data": {
      "text/html": [
       "<div>\n",
       "<style scoped>\n",
       "    .dataframe tbody tr th:only-of-type {\n",
       "        vertical-align: middle;\n",
       "    }\n",
       "\n",
       "    .dataframe tbody tr th {\n",
       "        vertical-align: top;\n",
       "    }\n",
       "\n",
       "    .dataframe thead th {\n",
       "        text-align: right;\n",
       "    }\n",
       "</style>\n",
       "<table border=\"1\" class=\"dataframe\">\n",
       "  <thead>\n",
       "    <tr style=\"text-align: right;\">\n",
       "      <th></th>\n",
       "      <th>0</th>\n",
       "    </tr>\n",
       "  </thead>\n",
       "  <tbody>\n",
       "    <tr>\n",
       "      <th>0</th>\n",
       "      <td>Alabama</td>\n",
       "    </tr>\n",
       "    <tr>\n",
       "      <th>1</th>\n",
       "      <td>Alaska</td>\n",
       "    </tr>\n",
       "    <tr>\n",
       "      <th>2</th>\n",
       "      <td>Arizona</td>\n",
       "    </tr>\n",
       "    <tr>\n",
       "      <th>3</th>\n",
       "      <td>Arkansas</td>\n",
       "    </tr>\n",
       "    <tr>\n",
       "      <th>4</th>\n",
       "      <td>California</td>\n",
       "    </tr>\n",
       "  </tbody>\n",
       "</table>\n",
       "</div>"
      ],
      "text/plain": [
       "            0\n",
       "0     Alabama\n",
       "1      Alaska\n",
       "2     Arizona\n",
       "3    Arkansas\n",
       "4  California"
      ]
     },
     "execution_count": 11,
     "metadata": {},
     "output_type": "execute_result"
    }
   ],
   "source": [
    "df_license.head(5)"
   ]
  },
  {
   "cell_type": "code",
   "execution_count": 12,
   "metadata": {},
   "outputs": [],
   "source": [
    "df_license = df_license.rename(columns={'0':'State'})"
   ]
  },
  {
   "cell_type": "code",
   "execution_count": 13,
   "metadata": {},
   "outputs": [
    {
     "data": {
      "text/html": [
       "<div>\n",
       "<style scoped>\n",
       "    .dataframe tbody tr th:only-of-type {\n",
       "        vertical-align: middle;\n",
       "    }\n",
       "\n",
       "    .dataframe tbody tr th {\n",
       "        vertical-align: top;\n",
       "    }\n",
       "\n",
       "    .dataframe thead th {\n",
       "        text-align: right;\n",
       "    }\n",
       "</style>\n",
       "<table border=\"1\" class=\"dataframe\">\n",
       "  <thead>\n",
       "    <tr style=\"text-align: right;\">\n",
       "      <th></th>\n",
       "      <th>State</th>\n",
       "    </tr>\n",
       "  </thead>\n",
       "  <tbody>\n",
       "    <tr>\n",
       "      <th>0</th>\n",
       "      <td>Alabama</td>\n",
       "    </tr>\n",
       "    <tr>\n",
       "      <th>1</th>\n",
       "      <td>Alaska</td>\n",
       "    </tr>\n",
       "    <tr>\n",
       "      <th>2</th>\n",
       "      <td>Arizona</td>\n",
       "    </tr>\n",
       "    <tr>\n",
       "      <th>3</th>\n",
       "      <td>Arkansas</td>\n",
       "    </tr>\n",
       "    <tr>\n",
       "      <th>4</th>\n",
       "      <td>California</td>\n",
       "    </tr>\n",
       "  </tbody>\n",
       "</table>\n",
       "</div>"
      ],
      "text/plain": [
       "        State\n",
       "0     Alabama\n",
       "1      Alaska\n",
       "2     Arizona\n",
       "3    Arkansas\n",
       "4  California"
      ]
     },
     "execution_count": 13,
     "metadata": {},
     "output_type": "execute_result"
    }
   ],
   "source": [
    "df_license.head(5)"
   ]
  },
  {
   "cell_type": "code",
   "execution_count": 14,
   "metadata": {},
   "outputs": [],
   "source": [
    "rek = boto3.client(\n",
    "    'rekognition',\n",
    "    aws_access_key_id=aws_access_key,\n",
    "    aws_secret_access_key=aws_secret_key,\n",
    "    region_name = region_name\n",
    "\n",
    ")"
   ]
  },
  {
   "cell_type": "code",
   "execution_count": 15,
   "metadata": {},
   "outputs": [],
   "source": [
    "bucket = 'techcatalyst-public'  \n",
    "Image = 'resources/license-plates/'"
   ]
  },
  {
   "cell_type": "code",
   "execution_count": 16,
   "metadata": {},
   "outputs": [
    {
     "name": "stdout",
     "output_type": "stream",
     "text": [
      "resources/license-plates/\n",
      "resources/license-plates/license_plate10.jpeg\n",
      "resources/license-plates/license_plate11.png\n",
      "resources/license-plates/license_plate12.jpeg\n",
      "resources/license-plates/license_plate13.jpeg\n",
      "resources/license-plates/license_plate3.png\n",
      "resources/license-plates/license_plate4.jpeg\n",
      "resources/license-plates/license_plate6.jpeg\n",
      "resources/license-plates/license_plate7.jpg\n",
      "resources/license-plates/license_plate8.png\n",
      "resources/license-plates/license_plate9.jpeg\n",
      "resources/license-plates/states.csv\n"
     ]
    }
   ],
   "source": [
    "response = s3.list_objects_v2(\n",
    "    Bucket=bucket,\n",
    "    Prefix=Image)\n",
    "\n",
    "pics = [] \n",
    "for content in response.get('Contents', []):\n",
    "    pics.append(content['Key'])\n",
    "    print(content['Key'])"
   ]
  },
  {
   "cell_type": "code",
   "execution_count": 17,
   "metadata": {},
   "outputs": [
    {
     "data": {
      "text/plain": [
       "['resources/license-plates/',\n",
       " 'resources/license-plates/license_plate10.jpeg',\n",
       " 'resources/license-plates/license_plate11.png',\n",
       " 'resources/license-plates/license_plate12.jpeg',\n",
       " 'resources/license-plates/license_plate13.jpeg',\n",
       " 'resources/license-plates/license_plate3.png',\n",
       " 'resources/license-plates/license_plate4.jpeg',\n",
       " 'resources/license-plates/license_plate6.jpeg',\n",
       " 'resources/license-plates/license_plate7.jpg',\n",
       " 'resources/license-plates/license_plate8.png',\n",
       " 'resources/license-plates/license_plate9.jpeg',\n",
       " 'resources/license-plates/states.csv']"
      ]
     },
     "execution_count": 17,
     "metadata": {},
     "output_type": "execute_result"
    }
   ],
   "source": [
    "pics"
   ]
  },
  {
   "cell_type": "code",
   "execution_count": 18,
   "metadata": {},
   "outputs": [],
   "source": [
    "pic_names = pd.DataFrame({'images':pics})"
   ]
  },
  {
   "cell_type": "code",
   "execution_count": 19,
   "metadata": {},
   "outputs": [
    {
     "data": {
      "text/html": [
       "<div>\n",
       "<style scoped>\n",
       "    .dataframe tbody tr th:only-of-type {\n",
       "        vertical-align: middle;\n",
       "    }\n",
       "\n",
       "    .dataframe tbody tr th {\n",
       "        vertical-align: top;\n",
       "    }\n",
       "\n",
       "    .dataframe thead th {\n",
       "        text-align: right;\n",
       "    }\n",
       "</style>\n",
       "<table border=\"1\" class=\"dataframe\">\n",
       "  <thead>\n",
       "    <tr style=\"text-align: right;\">\n",
       "      <th></th>\n",
       "      <th>images</th>\n",
       "    </tr>\n",
       "  </thead>\n",
       "  <tbody>\n",
       "    <tr>\n",
       "      <th>0</th>\n",
       "      <td>resources/license-plates/</td>\n",
       "    </tr>\n",
       "    <tr>\n",
       "      <th>1</th>\n",
       "      <td>resources/license-plates/license_plate10.jpeg</td>\n",
       "    </tr>\n",
       "    <tr>\n",
       "      <th>2</th>\n",
       "      <td>resources/license-plates/license_plate11.png</td>\n",
       "    </tr>\n",
       "    <tr>\n",
       "      <th>3</th>\n",
       "      <td>resources/license-plates/license_plate12.jpeg</td>\n",
       "    </tr>\n",
       "    <tr>\n",
       "      <th>4</th>\n",
       "      <td>resources/license-plates/license_plate13.jpeg</td>\n",
       "    </tr>\n",
       "    <tr>\n",
       "      <th>5</th>\n",
       "      <td>resources/license-plates/license_plate3.png</td>\n",
       "    </tr>\n",
       "    <tr>\n",
       "      <th>6</th>\n",
       "      <td>resources/license-plates/license_plate4.jpeg</td>\n",
       "    </tr>\n",
       "    <tr>\n",
       "      <th>7</th>\n",
       "      <td>resources/license-plates/license_plate6.jpeg</td>\n",
       "    </tr>\n",
       "    <tr>\n",
       "      <th>8</th>\n",
       "      <td>resources/license-plates/license_plate7.jpg</td>\n",
       "    </tr>\n",
       "    <tr>\n",
       "      <th>9</th>\n",
       "      <td>resources/license-plates/license_plate8.png</td>\n",
       "    </tr>\n",
       "    <tr>\n",
       "      <th>10</th>\n",
       "      <td>resources/license-plates/license_plate9.jpeg</td>\n",
       "    </tr>\n",
       "    <tr>\n",
       "      <th>11</th>\n",
       "      <td>resources/license-plates/states.csv</td>\n",
       "    </tr>\n",
       "  </tbody>\n",
       "</table>\n",
       "</div>"
      ],
      "text/plain": [
       "                                           images\n",
       "0                       resources/license-plates/\n",
       "1   resources/license-plates/license_plate10.jpeg\n",
       "2    resources/license-plates/license_plate11.png\n",
       "3   resources/license-plates/license_plate12.jpeg\n",
       "4   resources/license-plates/license_plate13.jpeg\n",
       "5     resources/license-plates/license_plate3.png\n",
       "6    resources/license-plates/license_plate4.jpeg\n",
       "7    resources/license-plates/license_plate6.jpeg\n",
       "8     resources/license-plates/license_plate7.jpg\n",
       "9     resources/license-plates/license_plate8.png\n",
       "10   resources/license-plates/license_plate9.jpeg\n",
       "11            resources/license-plates/states.csv"
      ]
     },
     "execution_count": 19,
     "metadata": {},
     "output_type": "execute_result"
    }
   ],
   "source": [
    "pic_names"
   ]
  },
  {
   "cell_type": "code",
   "execution_count": 20,
   "metadata": {},
   "outputs": [],
   "source": [
    "drop_state = pic_names[pic_names.images == 'resources/license-plates/states.csv'].index\n",
    "drop_resource = pic_names[pic_names.images == 'resources/license-plates/'].index"
   ]
  },
  {
   "cell_type": "code",
   "execution_count": 21,
   "metadata": {},
   "outputs": [],
   "source": [
    "df_pic_1 = pic_names.drop(drop_state)\n",
    "only_pics = df_pic_1.drop(drop_resource)"
   ]
  },
  {
   "cell_type": "code",
   "execution_count": 22,
   "metadata": {},
   "outputs": [
    {
     "data": {
      "text/html": [
       "<div>\n",
       "<style scoped>\n",
       "    .dataframe tbody tr th:only-of-type {\n",
       "        vertical-align: middle;\n",
       "    }\n",
       "\n",
       "    .dataframe tbody tr th {\n",
       "        vertical-align: top;\n",
       "    }\n",
       "\n",
       "    .dataframe thead th {\n",
       "        text-align: right;\n",
       "    }\n",
       "</style>\n",
       "<table border=\"1\" class=\"dataframe\">\n",
       "  <thead>\n",
       "    <tr style=\"text-align: right;\">\n",
       "      <th></th>\n",
       "      <th>images</th>\n",
       "    </tr>\n",
       "  </thead>\n",
       "  <tbody>\n",
       "    <tr>\n",
       "      <th>1</th>\n",
       "      <td>resources/license-plates/license_plate10.jpeg</td>\n",
       "    </tr>\n",
       "    <tr>\n",
       "      <th>2</th>\n",
       "      <td>resources/license-plates/license_plate11.png</td>\n",
       "    </tr>\n",
       "    <tr>\n",
       "      <th>3</th>\n",
       "      <td>resources/license-plates/license_plate12.jpeg</td>\n",
       "    </tr>\n",
       "    <tr>\n",
       "      <th>4</th>\n",
       "      <td>resources/license-plates/license_plate13.jpeg</td>\n",
       "    </tr>\n",
       "    <tr>\n",
       "      <th>5</th>\n",
       "      <td>resources/license-plates/license_plate3.png</td>\n",
       "    </tr>\n",
       "    <tr>\n",
       "      <th>6</th>\n",
       "      <td>resources/license-plates/license_plate4.jpeg</td>\n",
       "    </tr>\n",
       "    <tr>\n",
       "      <th>7</th>\n",
       "      <td>resources/license-plates/license_plate6.jpeg</td>\n",
       "    </tr>\n",
       "    <tr>\n",
       "      <th>8</th>\n",
       "      <td>resources/license-plates/license_plate7.jpg</td>\n",
       "    </tr>\n",
       "    <tr>\n",
       "      <th>9</th>\n",
       "      <td>resources/license-plates/license_plate8.png</td>\n",
       "    </tr>\n",
       "    <tr>\n",
       "      <th>10</th>\n",
       "      <td>resources/license-plates/license_plate9.jpeg</td>\n",
       "    </tr>\n",
       "  </tbody>\n",
       "</table>\n",
       "</div>"
      ],
      "text/plain": [
       "                                           images\n",
       "1   resources/license-plates/license_plate10.jpeg\n",
       "2    resources/license-plates/license_plate11.png\n",
       "3   resources/license-plates/license_plate12.jpeg\n",
       "4   resources/license-plates/license_plate13.jpeg\n",
       "5     resources/license-plates/license_plate3.png\n",
       "6    resources/license-plates/license_plate4.jpeg\n",
       "7    resources/license-plates/license_plate6.jpeg\n",
       "8     resources/license-plates/license_plate7.jpg\n",
       "9     resources/license-plates/license_plate8.png\n",
       "10   resources/license-plates/license_plate9.jpeg"
      ]
     },
     "execution_count": 22,
     "metadata": {},
     "output_type": "execute_result"
    }
   ],
   "source": [
    "only_pics"
   ]
  },
  {
   "cell_type": "code",
   "execution_count": 23,
   "metadata": {},
   "outputs": [],
   "source": [
    "df_states = df_license['State'].to_list()\n"
   ]
  },
  {
   "cell_type": "code",
   "execution_count": 47,
   "metadata": {},
   "outputs": [
    {
     "name": "stdout",
     "output_type": "stream",
     "text": [
      "['ARIZONA', 'TEXAS', 'TEXAS', 'ALABAMA', 'Massachusetts', 'California', 'NEVADA', 'OHIO', 'ALABAMA']\n"
     ]
    }
   ],
   "source": [
    "# response_2 = []\n",
    "# for row in combined_df['REVIEW TEXT']:\n",
    "#     response = comprehend.detect_sentiment(Text= row, LanguageCode=\"en\")\n",
    "#     response_1 = response['Sentiment']\n",
    "#     response_2.append(response_1)\n",
    "\n",
    "# zero= response['TextDetections'][0]\n",
    "# zero['DetectedText']\n",
    "\n",
    "\n",
    "# response_3 = []\n",
    "# for row in only_pics['images']:\n",
    "#     response = rek.detect_text(Image={'S3Object': {'Bucket': bucket, 'Name': row}})\n",
    "#     response_4 = response['TextDetections'][0]\n",
    "#     response_5 = response_4['DetectedText']\n",
    "#     print(response_3.append(response_5))\n",
    "\n",
    "\n",
    "upper_list = [item.upper() for item in df_states]\n",
    "num_rows = min(len(only_pics['images']), 10)\n",
    "\n",
    "response_3 = []\n",
    "for row in only_pics['images']:\n",
    "    response_r = rek.detect_text(Image={'S3Object': {'Bucket': bucket, 'Name': row}})\n",
    "    response_T = response_r['TextDetections'][0]\n",
    "    response_w = response_r['TextDetections'][1]\n",
    "    # for b in response_r['TextDetections']:\n",
    "    if (response_T['DetectedText']) in upper_list or (response_T['DetectedText']) in df_states:\n",
    "        response_3.append(response_T['DetectedText'])\n",
    "    if (response_w['DetectedText']) in upper_list or (response_w['DetectedText']) in df_states:\n",
    "        response_3.append(response_w['DetectedText'])\n",
    "\n",
    "\n",
    "print(response_3)"
   ]
  },
  {
   "cell_type": "code",
   "execution_count": 34,
   "metadata": {},
   "outputs": [
    {
     "name": "stdout",
     "output_type": "stream",
     "text": [
      "['ARIZONA', 'ARIZONA', 'TEXAS', 'TEXAS', 'TEXAS', 'TEXAS', 'ALABAMA', 'ALABAMA', 'Massachusetts', 'Massachusetts', 'Massachusetts', 'PENNSYLVANIA', 'California', 'California', 'NEVADA', 'NEVADA', 'OHIO', 'OHIO', 'ALABAMA', 'ALABAMA']\n",
      "['resources/license-plates/license_plate10.jpeg', 'resources/license-plates/license_plate10.jpeg', 'resources/license-plates/license_plate11.png', 'resources/license-plates/license_plate11.png', 'resources/license-plates/license_plate12.jpeg', 'resources/license-plates/license_plate12.jpeg', 'resources/license-plates/license_plate13.jpeg', 'resources/license-plates/license_plate13.jpeg', 'resources/license-plates/license_plate3.png', 'resources/license-plates/license_plate3.png', 'resources/license-plates/license_plate3.png', 'resources/license-plates/license_plate4.jpeg', 'resources/license-plates/license_plate6.jpeg', 'resources/license-plates/license_plate6.jpeg', 'resources/license-plates/license_plate7.jpg', 'resources/license-plates/license_plate7.jpg', 'resources/license-plates/license_plate8.png', 'resources/license-plates/license_plate8.png', 'resources/license-plates/license_plate9.jpeg', 'resources/license-plates/license_plate9.jpeg']\n"
     ]
    }
   ],
   "source": [
    "response_6 = []\n",
    "response_7= []\n",
    "for row in only_pics['images']:\n",
    "    response_r = rek.detect_text(Image={'S3Object': {'Bucket': bucket, 'Name': row}})\n",
    "    for b in response_r['TextDetections'][:10]:\n",
    "        if (b['DetectedText']) in upper_list or (b['DetectedText']) in df_states:\n",
    "            #response_6.append(f\"[{row}], {[b['DetectedText']]}\")\n",
    "            response_6.append(b['DetectedText'])\n",
    "            response_7.append(row)\n",
    "\n",
    "    \n",
    "\n",
    "\n",
    "print(response_6)\n",
    "print(response_7)\n"
   ]
  },
  {
   "cell_type": "code",
   "execution_count": 35,
   "metadata": {},
   "outputs": [],
   "source": [
    "state_names = pd.DataFrame({'co1':response_6})"
   ]
  },
  {
   "cell_type": "code",
   "execution_count": 36,
   "metadata": {},
   "outputs": [],
   "source": [
    "image_names=pd.DataFrame({'images':response_7})"
   ]
  },
  {
   "cell_type": "code",
   "execution_count": 37,
   "metadata": {},
   "outputs": [],
   "source": [
    "image_names['States'] = response_6"
   ]
  },
  {
   "cell_type": "code",
   "execution_count": 38,
   "metadata": {},
   "outputs": [
    {
     "data": {
      "text/html": [
       "<div>\n",
       "<style scoped>\n",
       "    .dataframe tbody tr th:only-of-type {\n",
       "        vertical-align: middle;\n",
       "    }\n",
       "\n",
       "    .dataframe tbody tr th {\n",
       "        vertical-align: top;\n",
       "    }\n",
       "\n",
       "    .dataframe thead th {\n",
       "        text-align: right;\n",
       "    }\n",
       "</style>\n",
       "<table border=\"1\" class=\"dataframe\">\n",
       "  <thead>\n",
       "    <tr style=\"text-align: right;\">\n",
       "      <th></th>\n",
       "      <th>images</th>\n",
       "      <th>States</th>\n",
       "    </tr>\n",
       "  </thead>\n",
       "  <tbody>\n",
       "    <tr>\n",
       "      <th>0</th>\n",
       "      <td>resources/license-plates/license_plate10.jpeg</td>\n",
       "      <td>ARIZONA</td>\n",
       "    </tr>\n",
       "    <tr>\n",
       "      <th>1</th>\n",
       "      <td>resources/license-plates/license_plate10.jpeg</td>\n",
       "      <td>ARIZONA</td>\n",
       "    </tr>\n",
       "    <tr>\n",
       "      <th>2</th>\n",
       "      <td>resources/license-plates/license_plate11.png</td>\n",
       "      <td>TEXAS</td>\n",
       "    </tr>\n",
       "    <tr>\n",
       "      <th>3</th>\n",
       "      <td>resources/license-plates/license_plate11.png</td>\n",
       "      <td>TEXAS</td>\n",
       "    </tr>\n",
       "    <tr>\n",
       "      <th>4</th>\n",
       "      <td>resources/license-plates/license_plate12.jpeg</td>\n",
       "      <td>TEXAS</td>\n",
       "    </tr>\n",
       "    <tr>\n",
       "      <th>5</th>\n",
       "      <td>resources/license-plates/license_plate12.jpeg</td>\n",
       "      <td>TEXAS</td>\n",
       "    </tr>\n",
       "    <tr>\n",
       "      <th>6</th>\n",
       "      <td>resources/license-plates/license_plate13.jpeg</td>\n",
       "      <td>ALABAMA</td>\n",
       "    </tr>\n",
       "    <tr>\n",
       "      <th>7</th>\n",
       "      <td>resources/license-plates/license_plate13.jpeg</td>\n",
       "      <td>ALABAMA</td>\n",
       "    </tr>\n",
       "    <tr>\n",
       "      <th>8</th>\n",
       "      <td>resources/license-plates/license_plate3.png</td>\n",
       "      <td>Massachusetts</td>\n",
       "    </tr>\n",
       "    <tr>\n",
       "      <th>9</th>\n",
       "      <td>resources/license-plates/license_plate3.png</td>\n",
       "      <td>Massachusetts</td>\n",
       "    </tr>\n",
       "    <tr>\n",
       "      <th>10</th>\n",
       "      <td>resources/license-plates/license_plate3.png</td>\n",
       "      <td>Massachusetts</td>\n",
       "    </tr>\n",
       "    <tr>\n",
       "      <th>11</th>\n",
       "      <td>resources/license-plates/license_plate4.jpeg</td>\n",
       "      <td>PENNSYLVANIA</td>\n",
       "    </tr>\n",
       "    <tr>\n",
       "      <th>12</th>\n",
       "      <td>resources/license-plates/license_plate6.jpeg</td>\n",
       "      <td>California</td>\n",
       "    </tr>\n",
       "    <tr>\n",
       "      <th>13</th>\n",
       "      <td>resources/license-plates/license_plate6.jpeg</td>\n",
       "      <td>California</td>\n",
       "    </tr>\n",
       "    <tr>\n",
       "      <th>14</th>\n",
       "      <td>resources/license-plates/license_plate7.jpg</td>\n",
       "      <td>NEVADA</td>\n",
       "    </tr>\n",
       "    <tr>\n",
       "      <th>15</th>\n",
       "      <td>resources/license-plates/license_plate7.jpg</td>\n",
       "      <td>NEVADA</td>\n",
       "    </tr>\n",
       "    <tr>\n",
       "      <th>16</th>\n",
       "      <td>resources/license-plates/license_plate8.png</td>\n",
       "      <td>OHIO</td>\n",
       "    </tr>\n",
       "    <tr>\n",
       "      <th>17</th>\n",
       "      <td>resources/license-plates/license_plate8.png</td>\n",
       "      <td>OHIO</td>\n",
       "    </tr>\n",
       "    <tr>\n",
       "      <th>18</th>\n",
       "      <td>resources/license-plates/license_plate9.jpeg</td>\n",
       "      <td>ALABAMA</td>\n",
       "    </tr>\n",
       "    <tr>\n",
       "      <th>19</th>\n",
       "      <td>resources/license-plates/license_plate9.jpeg</td>\n",
       "      <td>ALABAMA</td>\n",
       "    </tr>\n",
       "  </tbody>\n",
       "</table>\n",
       "</div>"
      ],
      "text/plain": [
       "                                           images         States\n",
       "0   resources/license-plates/license_plate10.jpeg        ARIZONA\n",
       "1   resources/license-plates/license_plate10.jpeg        ARIZONA\n",
       "2    resources/license-plates/license_plate11.png          TEXAS\n",
       "3    resources/license-plates/license_plate11.png          TEXAS\n",
       "4   resources/license-plates/license_plate12.jpeg          TEXAS\n",
       "5   resources/license-plates/license_plate12.jpeg          TEXAS\n",
       "6   resources/license-plates/license_plate13.jpeg        ALABAMA\n",
       "7   resources/license-plates/license_plate13.jpeg        ALABAMA\n",
       "8     resources/license-plates/license_plate3.png  Massachusetts\n",
       "9     resources/license-plates/license_plate3.png  Massachusetts\n",
       "10    resources/license-plates/license_plate3.png  Massachusetts\n",
       "11   resources/license-plates/license_plate4.jpeg   PENNSYLVANIA\n",
       "12   resources/license-plates/license_plate6.jpeg     California\n",
       "13   resources/license-plates/license_plate6.jpeg     California\n",
       "14    resources/license-plates/license_plate7.jpg         NEVADA\n",
       "15    resources/license-plates/license_plate7.jpg         NEVADA\n",
       "16    resources/license-plates/license_plate8.png           OHIO\n",
       "17    resources/license-plates/license_plate8.png           OHIO\n",
       "18   resources/license-plates/license_plate9.jpeg        ALABAMA\n",
       "19   resources/license-plates/license_plate9.jpeg        ALABAMA"
      ]
     },
     "execution_count": 38,
     "metadata": {},
     "output_type": "execute_result"
    }
   ],
   "source": [
    "image_names"
   ]
  },
  {
   "cell_type": "code",
   "execution_count": 39,
   "metadata": {},
   "outputs": [
    {
     "name": "stderr",
     "output_type": "stream",
     "text": [
      "/tmp/ipykernel_52016/1204763307.py:3: SettingWithCopyWarning: \n",
      "A value is trying to be set on a copy of a slice from a DataFrame.\n",
      "Try using .loc[row_indexer,col_indexer] = value instead\n",
      "\n",
      "See the caveats in the documentation: https://pandas.pydata.org/pandas-docs/stable/user_guide/indexing.html#returning-a-view-versus-a-copy\n",
      "  df_l['States']=df_l['States'].str.lower()\n"
     ]
    },
    {
     "data": {
      "text/html": [
       "<div>\n",
       "<style scoped>\n",
       "    .dataframe tbody tr th:only-of-type {\n",
       "        vertical-align: middle;\n",
       "    }\n",
       "\n",
       "    .dataframe tbody tr th {\n",
       "        vertical-align: top;\n",
       "    }\n",
       "\n",
       "    .dataframe thead th {\n",
       "        text-align: right;\n",
       "    }\n",
       "</style>\n",
       "<table border=\"1\" class=\"dataframe\">\n",
       "  <thead>\n",
       "    <tr style=\"text-align: right;\">\n",
       "      <th></th>\n",
       "      <th>images</th>\n",
       "      <th>States</th>\n",
       "    </tr>\n",
       "  </thead>\n",
       "  <tbody>\n",
       "    <tr>\n",
       "      <th>0</th>\n",
       "      <td>resources/license-plates/license_plate10.jpeg</td>\n",
       "      <td>arizona</td>\n",
       "    </tr>\n",
       "    <tr>\n",
       "      <th>2</th>\n",
       "      <td>resources/license-plates/license_plate11.png</td>\n",
       "      <td>texas</td>\n",
       "    </tr>\n",
       "    <tr>\n",
       "      <th>4</th>\n",
       "      <td>resources/license-plates/license_plate12.jpeg</td>\n",
       "      <td>texas</td>\n",
       "    </tr>\n",
       "    <tr>\n",
       "      <th>6</th>\n",
       "      <td>resources/license-plates/license_plate13.jpeg</td>\n",
       "      <td>alabama</td>\n",
       "    </tr>\n",
       "    <tr>\n",
       "      <th>8</th>\n",
       "      <td>resources/license-plates/license_plate3.png</td>\n",
       "      <td>massachusetts</td>\n",
       "    </tr>\n",
       "    <tr>\n",
       "      <th>11</th>\n",
       "      <td>resources/license-plates/license_plate4.jpeg</td>\n",
       "      <td>pennsylvania</td>\n",
       "    </tr>\n",
       "    <tr>\n",
       "      <th>12</th>\n",
       "      <td>resources/license-plates/license_plate6.jpeg</td>\n",
       "      <td>california</td>\n",
       "    </tr>\n",
       "    <tr>\n",
       "      <th>14</th>\n",
       "      <td>resources/license-plates/license_plate7.jpg</td>\n",
       "      <td>nevada</td>\n",
       "    </tr>\n",
       "    <tr>\n",
       "      <th>16</th>\n",
       "      <td>resources/license-plates/license_plate8.png</td>\n",
       "      <td>ohio</td>\n",
       "    </tr>\n",
       "    <tr>\n",
       "      <th>18</th>\n",
       "      <td>resources/license-plates/license_plate9.jpeg</td>\n",
       "      <td>alabama</td>\n",
       "    </tr>\n",
       "  </tbody>\n",
       "</table>\n",
       "</div>"
      ],
      "text/plain": [
       "                                           images         States\n",
       "0   resources/license-plates/license_plate10.jpeg        arizona\n",
       "2    resources/license-plates/license_plate11.png          texas\n",
       "4   resources/license-plates/license_plate12.jpeg          texas\n",
       "6   resources/license-plates/license_plate13.jpeg        alabama\n",
       "8     resources/license-plates/license_plate3.png  massachusetts\n",
       "11   resources/license-plates/license_plate4.jpeg   pennsylvania\n",
       "12   resources/license-plates/license_plate6.jpeg     california\n",
       "14    resources/license-plates/license_plate7.jpg         nevada\n",
       "16    resources/license-plates/license_plate8.png           ohio\n",
       "18   resources/license-plates/license_plate9.jpeg        alabama"
      ]
     },
     "execution_count": 39,
     "metadata": {},
     "output_type": "execute_result"
    }
   ],
   "source": [
    "df_l = image_names.drop_duplicates()\n",
    "#df['column_name'].str.lower()\n",
    "df_l['States']=df_l['States'].str.lower()\n",
    "df_l"
   ]
  },
  {
   "cell_type": "code",
   "execution_count": 40,
   "metadata": {},
   "outputs": [],
   "source": [
    "df2 = df_l.reset_index(drop=True)"
   ]
  },
  {
   "cell_type": "code",
   "execution_count": 41,
   "metadata": {},
   "outputs": [
    {
     "data": {
      "text/html": [
       "<div>\n",
       "<style scoped>\n",
       "    .dataframe tbody tr th:only-of-type {\n",
       "        vertical-align: middle;\n",
       "    }\n",
       "\n",
       "    .dataframe tbody tr th {\n",
       "        vertical-align: top;\n",
       "    }\n",
       "\n",
       "    .dataframe thead th {\n",
       "        text-align: right;\n",
       "    }\n",
       "</style>\n",
       "<table border=\"1\" class=\"dataframe\">\n",
       "  <thead>\n",
       "    <tr style=\"text-align: right;\">\n",
       "      <th></th>\n",
       "      <th>images</th>\n",
       "      <th>States</th>\n",
       "    </tr>\n",
       "  </thead>\n",
       "  <tbody>\n",
       "    <tr>\n",
       "      <th>0</th>\n",
       "      <td>resources/license-plates/license_plate10.jpeg</td>\n",
       "      <td>arizona</td>\n",
       "    </tr>\n",
       "    <tr>\n",
       "      <th>1</th>\n",
       "      <td>resources/license-plates/license_plate11.png</td>\n",
       "      <td>texas</td>\n",
       "    </tr>\n",
       "    <tr>\n",
       "      <th>2</th>\n",
       "      <td>resources/license-plates/license_plate12.jpeg</td>\n",
       "      <td>texas</td>\n",
       "    </tr>\n",
       "    <tr>\n",
       "      <th>3</th>\n",
       "      <td>resources/license-plates/license_plate13.jpeg</td>\n",
       "      <td>alabama</td>\n",
       "    </tr>\n",
       "    <tr>\n",
       "      <th>4</th>\n",
       "      <td>resources/license-plates/license_plate3.png</td>\n",
       "      <td>massachusetts</td>\n",
       "    </tr>\n",
       "    <tr>\n",
       "      <th>5</th>\n",
       "      <td>resources/license-plates/license_plate4.jpeg</td>\n",
       "      <td>pennsylvania</td>\n",
       "    </tr>\n",
       "    <tr>\n",
       "      <th>6</th>\n",
       "      <td>resources/license-plates/license_plate6.jpeg</td>\n",
       "      <td>california</td>\n",
       "    </tr>\n",
       "    <tr>\n",
       "      <th>7</th>\n",
       "      <td>resources/license-plates/license_plate7.jpg</td>\n",
       "      <td>nevada</td>\n",
       "    </tr>\n",
       "    <tr>\n",
       "      <th>8</th>\n",
       "      <td>resources/license-plates/license_plate8.png</td>\n",
       "      <td>ohio</td>\n",
       "    </tr>\n",
       "    <tr>\n",
       "      <th>9</th>\n",
       "      <td>resources/license-plates/license_plate9.jpeg</td>\n",
       "      <td>alabama</td>\n",
       "    </tr>\n",
       "  </tbody>\n",
       "</table>\n",
       "</div>"
      ],
      "text/plain": [
       "                                          images         States\n",
       "0  resources/license-plates/license_plate10.jpeg        arizona\n",
       "1   resources/license-plates/license_plate11.png          texas\n",
       "2  resources/license-plates/license_plate12.jpeg          texas\n",
       "3  resources/license-plates/license_plate13.jpeg        alabama\n",
       "4    resources/license-plates/license_plate3.png  massachusetts\n",
       "5   resources/license-plates/license_plate4.jpeg   pennsylvania\n",
       "6   resources/license-plates/license_plate6.jpeg     california\n",
       "7    resources/license-plates/license_plate7.jpg         nevada\n",
       "8    resources/license-plates/license_plate8.png           ohio\n",
       "9   resources/license-plates/license_plate9.jpeg        alabama"
      ]
     },
     "execution_count": 41,
     "metadata": {},
     "output_type": "execute_result"
    }
   ],
   "source": [
    "\n",
    "\n",
    "image_state = df2\n",
    "\n",
    "image_state.to_csv('image_state.csv', encoding='utf-8',header = True)\n",
    "\n",
    "image_state"
   ]
  },
  {
   "cell_type": "code",
   "execution_count": 42,
   "metadata": {},
   "outputs": [],
   "source": [
    "# Initialize the S3 client\n",
    "\n",
    "# Define the file to upload and the target bucket and key\n",
    "filename = '/workspaces/techcatalyst-DE-andy/activities/ai_api/image_state.csv'  # Replace with your file path\n",
    "bucket_name = 'techcatalyst-public'  # Replace with your bucket name\n",
    "key = 'andy/image_state.csv'  # Replace with your file key in S3\n",
    "\n",
    "# # Upload the file to S3 using put_object\n",
    "s3.upload_file(filename,bucket_name,key)"
   ]
  },
  {
   "cell_type": "code",
   "execution_count": null,
   "metadata": {},
   "outputs": [],
   "source": []
  },
  {
   "cell_type": "code",
   "execution_count": 43,
   "metadata": {},
   "outputs": [],
   "source": [
    "count = image_state.groupby(['States']).size().reset_index(name= 'count').sort_values('count',ascending=False)\n",
    "count_act= count['count']\n",
    "count_sen = count['States']\n"
   ]
  },
  {
   "cell_type": "code",
   "execution_count": 44,
   "metadata": {},
   "outputs": [
    {
     "name": "stderr",
     "output_type": "stream",
     "text": [
      "/tmp/ipykernel_52016/1495926391.py:12: UserWarning: No artists with labels found to put in legend.  Note that artists whose label start with an underscore are ignored when legend() is called with no argument.\n",
      "  ax.legend(title='Fruit color')\n"
     ]
    },
    {
     "data": {
      "image/png": "[encoded data removed]",
      "text/plain": [
       "<Figure size 640x480 with 1 Axes>"
      ]
     },
     "metadata": {},
     "output_type": "display_data"
    }
   ],
   "source": [
    "# Import Matplotlib\n",
    "import matplotlib.pyplot as plt\n",
    "fig, ax = plt.subplots()\n",
    "fruits = count_sen\n",
    "counts = count_act\n",
    "\n",
    "ax.bar(fruits, counts)\n",
    "\n",
    "# ax.set_title('Sentiment Count for Reviews')\n",
    "fig.text(s='number of license plate by State', x=0.5, y=.92, fontsize=18, ha='center', va='center')\n",
    "ax.set_title('State', y=-0.5)\n",
    "ax.legend(title='Fruit color')\n",
    "\n",
    "\n",
    "ax.tick_params(axis='x', rotation=90)\n",
    "plt.savefig('license plate state summary.jpg', format='jpg') # order matters\n",
    "plt.show()\n"
   ]
  },
  {
   "cell_type": "code",
   "execution_count": 45,
   "metadata": {},
   "outputs": [],
   "source": [
    "# Initialize the S3 client\n",
    "\n",
    "# Define the file to upload and the target bucket and key\n",
    "filename = '/workspaces/techcatalyst-DE-andy/activities/ai_api/license plate state summary.jpg'  # Replace with your file path\n",
    "bucket_name = 'techcatalyst-public'  # Replace with your bucket name\n",
    "key = 'andy/license plate state summary.jpg'  # Replace with your file key in S3\n",
    "\n",
    "# # Upload the file to S3 using put_object\n",
    "s3.upload_file(filename,bucket_name,key)"
   ]
  }
 ],
 "metadata": {
  "kernelspec": {
   "display_name": "Python 3",
   "language": "python",
   "name": "python3"
  },
  "language_info": {
   "codemirror_mode": {
    "name": "ipython",
    "version": 3
   },
   "file_extension": ".py",
   "mimetype": "text/x-python",
   "name": "python",
   "nbconvert_exporter": "python",
   "pygments_lexer": "ipython3",
   "version": "3.10.13"
  }
 },
 "nbformat": 4,
 "nbformat_minor": 2
}
